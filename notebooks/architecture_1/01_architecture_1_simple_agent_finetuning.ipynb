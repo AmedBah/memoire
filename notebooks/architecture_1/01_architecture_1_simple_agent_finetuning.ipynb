{
 "cells": [
  {
   "cell_type": "markdown",
   "metadata": {},
   "source": [
    "# Architecture 1: Agent Conversationnel Simple (Baseline)\n",
    "\n",
    "Cette architecture implémente un agent conversationnel basé sur un LLM (Llama 3.2 3B) spécialement fine-tuned avec LoRA sur les données conversationnelles d'EasyTransfert.\n",
    "\n",
    "## Caractéristiques principales:\n",
    "- **Modèle**: Llama 3.2 3B Instruct\n",
    "- **Technique**: LoRA (Low-Rank Adaptation) avec rang=16, alpha=32\n",
    "- **Framework**: Unsloth pour entraînement optimisé\n",
    "- **Données**: 3000+ conversations historiques EasyTransfert\n",
    "- **Approche**: Toutes les connaissances encodées dans les paramètres du modèle"
   ]
  },
  {
   "cell_type": "markdown",
   "metadata": {
    "id": "view-in-github",
    "colab_type": "text"
   },
   "source": [
    "<a href=\"https://colab.research.google.com/github/AmedBah/memoire/blob/main/notebooks/architecture_1/01_architecture_1_simple_agent_finetuning.ipynb\" target=\"_parent\"><img src=\"https://colab.research.google.com/assets/colab-badge.svg\" alt=\"Open In Colab\"/></a>"
   ]
  },
  {
   "cell_type": "markdown",
   "metadata": {
    "id": "colab-setup"
   },
   "source": [
    "## 🚀 Configuration pour Google Colab\n",
    "\n",
    "**Note**: Cette section est spécifique à Google Colab. Si vous exécutez ce notebook localement, vous pouvez ignorer ces cellules."
   ]
  },
  {
   "cell_type": "code",
   "execution_count": null,
   "metadata": {
    "id": "runtime-check"
   },
   "outputs": [],
   "source": [
    "# Vérifier le type de runtime\n",
    "import os\n",
    "import sys\n",
    "\n",
    "# Détecter si on est sur Colab\n",
    "IS_COLAB = 'google.colab' in sys.modules\n",
    "\n",
    "if IS_COLAB:\n",
    "    print(\"✓ Exécution sur Google Colab\")\n",
    "    \n",
    "    # Vérifier le type de GPU\n",
    "    import torch\n",
    "    if torch.cuda.is_available():\n",
    "        gpu_name = torch.cuda.get_device_name(0)\n",
    "        print(f\"✓ GPU détecté: {gpu_name}\")\n",
    "        print(f\"✓ Mémoire GPU: {torch.cuda.get_device_properties(0).total_memory / 1e9:.2f} GB\")\n",
    "        \n",
    "        # Recommandations selon le GPU\n",
    "        if 'T4' in gpu_name:\n",
    "            print(\"\\n⚠️  GPU T4 détecté (16 GB): Convient pour ce notebook mais les temps d'entraînement seront plus longs\")\n",
    "        elif 'V100' in gpu_name or 'A100' in gpu_name:\n",
    "            print(f\"\\n✓ {gpu_name}: Parfait pour ce notebook!\")\n",
    "    else:\n",
    "        print(\"\\n❌ ATTENTION: Aucun GPU détecté!\")\n",
    "        print(\"   Pour activer le GPU: Runtime > Change runtime type > GPU\")\n",
    "        print(\"   Pour Colab Pro: Choisir 'High-RAM' ou 'Premium GPU'\")\n",
    "else:\n",
    "    print(\"✓ Exécution locale\")\n",
    "    import torch\n",
    "    if torch.cuda.is_available():\n",
    "        print(f\"✓ GPU disponible: {torch.cuda.get_device_name(0)}\")\n",
    "    else:\n",
    "        print(\"⚠️  Aucun GPU détecté - l'entraînement sera très lent\")"
   ]
  },
  {
   "cell_type": "code",
   "execution_count": null,
   "metadata": {
    "id": "mount-drive"
   },
   "outputs": [],
   "source": [
    "# Monter Google Drive (uniquement sur Colab)\n",
    "if IS_COLAB:\n",
    "    from google.colab import drive\n",
    "    drive.mount('/content/drive')\n",
    "    \n",
    "    # Définir le chemin vers les données\n",
    "    # OPTION 1: Données dans Google Drive\n",
    "    # DATA_DIR = '/content/drive/MyDrive/memoire/data'\n",
    "    \n",
    "    # OPTION 2: Cloner le repo et utiliser les données locales\n",
    "    print(\"\\n📥 Clonage du repository...\")\n",
    "    !git clone https://github.com/AmedBah/memoire.git /content/memoire\n",
    "    DATA_DIR = '/content/memoire/data'\n",
    "    \n",
    "    print(f\"\\n✓ Répertoire de données: {DATA_DIR}\")\n",
    "    \n",
    "    # Vérifier que les données sont présentes\n",
    "    if os.path.exists(DATA_DIR):\n",
    "        print(\"✓ Données trouvées!\")\n",
    "        !ls -lh {DATA_DIR}\n",
    "    else:\n",
    "        print(f\"❌ ERREUR: Répertoire {DATA_DIR} non trouvé!\")\n",
    "        print(\"   Veuillez soit:\")\n",
    "        print(\"   1. Copier le dossier 'data' dans votre Google Drive\")\n",
    "        print(\"   2. Ou le repository sera cloné automatiquement\")\n",
    "else:\n",
    "    # Exécution locale\n",
    "    DATA_DIR = '../../data'\n",
    "    print(f\"✓ Répertoire de données local: {DATA_DIR}\")"
   ]
  },
  {
   "cell_type": "code",
   "execution_count": null,
   "metadata": {
    "id": "data-path-helper"
   },
   "outputs": [],
   "source": [
    "# Fonction helper pour obtenir les chemins de données\n",
    "def get_data_path(relative_path):\n",
    "    \"\"\"Obtenir le chemin absolu d'un fichier de données\"\"\"\n",
    "    return os.path.join(DATA_DIR, relative_path)\n",
    "\n",
    "# Exemples de chemins\n",
    "print(\"Chemins de données configurés:\")\n",
    "print(f\"  Conversations: {get_data_path('conversations/conversation_1000_finetune.jsonl')}\")\n",
    "print(f\"  FAQs: {get_data_path('faqs/faq_easytransfert.json')}\")\n",
    "print(f\"  Opérateurs: {get_data_path('operators/operators_info.json')}\")\n",
    "print(f\"  Procédures: {get_data_path('procedures/procedures_resolution.json')}\")\n",
    "print(f\"  Expressions: {get_data_path('expressions/expressions_ivoiriennes.json')}\")\n",
    "print(f\"  Documents: {get_data_path('documents/doc.txt.txt')}\")"
   ]
  },
  {
   "cell_type": "markdown",
   "metadata": {},
   "source": [
    "## 1. Installation et Configuration"
   ]
  },
  {
   "cell_type": "code",
   "execution_count": null,
   "metadata": {},
   "outputs": [],
   "source": [
    "# Installation des dépendances\n",
    "!pip install -q unsloth transformers datasets accelerate peft bitsandbytes trl wandb\n",
    "\n",
    "import torch\n",
    "from unsloth import FastLanguageModel\n",
    "from datasets import load_dataset\n",
    "from trl import SFTTrainer\n",
    "from transformers import TrainingArguments\n",
    "import wandb\n",
    "import json\n",
    "import os\n",
    "\n",
    "print(f\"GPU disponible: {torch.cuda.is_available()}\")\n",
    "print(f\"Nombre de GPUs: {torch.cuda.device_count()}\")"
   ]
  },
  {
   "cell_type": "markdown",
   "metadata": {},
   "source": [
    "## 2. Configuration du Modèle"
   ]
  },
  {
   "cell_type": "code",
   "execution_count": null,
   "metadata": {},
   "outputs": [],
   "source": [
    "# Configuration\n",
    "max_seq_length = 2048  # Longueur maximale de séquence\n",
    "dtype = None  # Auto-détection (Float16 pour Tesla T4, V100, Bfloat16 pour Ampere+)\n",
    "load_in_4bit = True  # Quantification 4-bit pour économiser la mémoire\n",
    "\n",
    "# Chargement du modèle avec Unsloth\n",
    "model, tokenizer = FastLanguageModel.from_pretrained(\n",
    "    model_name=\"unsloth/Llama-3.2-3B-Instruct\",\n",
    "    max_seq_length=max_seq_length,\n",
    "    dtype=dtype,\n",
    "    load_in_4bit=load_in_4bit,\n",
    "    trust_remote_code=True,\n",
    ")\n",
    "\n",
    "print(\"Modèle chargé avec succès!\")"
   ]
  },
  {
   "cell_type": "markdown",
   "metadata": {},
   "source": [
    "## 3. Configuration LoRA\n",
    "\n",
    "Configuration selon les spécifications de l'architecture:\n",
    "- Rang (r): 16 - Dimension des matrices de faible rang\n",
    "- Alpha (α): 32 - Facteur de mise à l'échelle\n",
    "- Dropout: 0.05 - Régularisation\n",
    "- Modules cibles: Query/Key/Value des couches d'attention"
   ]
  },
  {
   "cell_type": "code",
   "execution_count": null,
   "metadata": {},
   "outputs": [],
   "source": [
    "# Configuration LoRA selon l'architecture définie\n",
    "model = FastLanguageModel.get_peft_model(\n",
    "    model,\n",
    "    r=16,  # Rang des matrices de faible rang\n",
    "    target_modules=[\"q_proj\", \"k_proj\", \"v_proj\", \"o_proj\",\n",
    "                    \"gate_proj\", \"up_proj\", \"down_proj\"],\n",
    "    lora_alpha=32,  # Facteur de mise à l'échelle\n",
    "    lora_dropout=0.05,  # Régularisation\n",
    "    bias=\"none\",\n",
    "    use_gradient_checkpointing=\"unsloth\",  # Optimisation mémoire\n",
    "    random_state=3407,\n",
    "    use_rslora=False,\n",
    "    loftq_config=None,\n",
    ")\n",
    "\n",
    "# Afficher les paramètres entraînables (~1% du total, ~30M sur 3B)\n",
    "trainable, total = model.get_nb_trainable_parameters()\n",
    "print(f\"Paramètres entraînables: {trainable:,} / {total:,} ({100 * trainable / total:.2f}%)\")"
   ]
  },
  {
   "cell_type": "markdown",
   "metadata": {},
   "source": [
    "## 4. Préparation des Données\n",
    "\n",
    "Chargement et formatage des conversations EasyTransfert selon le template Llama 3 Chat"
   ]
  },
  {
   "cell_type": "code",
   "execution_count": null,
   "metadata": {},
   "outputs": [],
   "source": [
    "# Template système pour EasyTransfert\n",
    "system_prompt = \"\"\"Tu es un assistant intelligent du service client EasyTransfert, une application de transfert d'argent mobile en Côte d'Ivoire.\n",
    "\n",
    "Règles importantes:\n",
    "- Mémorisation obligatoire: Ne jamais redemander une information déjà fournie\n",
    "- Formats d'identifiants: \n",
    "  * EasyTransfert: EFB.*\n",
    "  * Orange envoi: MP*\n",
    "  * MTN: chiffres uniquement\n",
    "  * Moov envoi: MRCH*/CF*\n",
    "  * Wave: format variable (souvent T*)\n",
    "- Ton chaleureux: Utilise des émojis appropriés 🤗😊\n",
    "- Mention régulière d'EasyTransfert\n",
    "- Pas de répétition des salutations\n",
    "- Adaptation au niveau d'urgence\n",
    "- Contact service client: 2522018730 (disponible 24h/24 via WhatsApp)\n",
    "\n",
    "Opérateurs supportés: MTN, Orange, Moov, Wave, Trésor Money\"\"\"\n",
    "\n",
    "# Template de conversation Llama 3\n",
    "alpaca_prompt = \"\"\"<|begin_of_text|><|start_header_id|>system<|end_header_id|>\n",
    "\n",
    "{}<|eot_id|><|start_header_id|>user<|end_header_id|>\n",
    "\n",
    "{}<|eot_id|><|start_header_id|>assistant<|end_header_id|>\n",
    "\n",
    "{}<|eot_id|>\"\"\"\n",
    "\n",
    "# Fonction de formatage des conversations\n",
    "def format_conversation(messages):\n",
    "    \"\"\"Formate une conversation multi-tours en prompt Llama 3\"\"\"\n",
    "    formatted_messages = []\n",
    "    \n",
    "    # Construire la conversation\n",
    "    conversation = \"<|begin_of_text|><|start_header_id|>system<|end_header_id|>\\n\\n\"\n",
    "    conversation += system_prompt + \"<|eot_id|>\"\n",
    "    \n",
    "    for msg in messages:\n",
    "        role = msg[\"role\"]\n",
    "        content = msg[\"content\"]\n",
    "        \n",
    "        conversation += f\"<|start_header_id|>{role}<|end_header_id|>\\n\\n{content}<|eot_id|>\"\n",
    "    \n",
    "    return {\"text\": conversation}\n",
    "\n",
    "# Charger les données de conversation\n",
    "dataset = load_dataset(\"json\", data_files=\"get_data_path('conversations/conversation_1000_finetune.jsonl')\", split=\"train\")\n",
    "print(f\"Nombre de conversations: {len(dataset)}\")\n",
    "\n",
    "# Formater les conversations\n",
    "formatted_dataset = dataset.map(\n",
    "    lambda x: format_conversation(x[\"messages\"]),\n",
    "    remove_columns=dataset.column_names\n",
    ")\n",
    "\n",
    "print(\"\\nExemple de conversation formatée:\")\n",
    "print(formatted_dataset[0][\"text\"][:500] + \"...\")"
   ]
  },
  {
   "cell_type": "markdown",
   "metadata": {},
   "source": [
    "## 5. Configuration de l'Entraînement"
   ]
  },
  {
   "cell_type": "code",
   "execution_count": null,
   "metadata": {},
   "outputs": [],
   "source": [
    "# Initialiser Weights & Biases pour le suivi\n",
    "wandb.init(\n",
    "    project=\"easytransfert-architecture1\",\n",
    "    name=\"llama-3.2-3b-lora-finetuning\",\n",
    "    config={\n",
    "        \"model\": \"Llama-3.2-3B-Instruct\",\n",
    "        \"lora_r\": 16,\n",
    "        \"lora_alpha\": 32,\n",
    "        \"lora_dropout\": 0.05,\n",
    "        \"max_seq_length\": max_seq_length,\n",
    "    }\n",
    ")\n",
    "\n",
    "# Configuration de l'entraînement\n",
    "training_args = TrainingArguments(\n",
    "    output_dir=\"./outputs_arch1\",\n",
    "    per_device_train_batch_size=2,\n",
    "    gradient_accumulation_steps=4,\n",
    "    warmup_steps=50,\n",
    "    num_train_epochs=3,\n",
    "    learning_rate=2e-4,\n",
    "    fp16=not torch.cuda.is_bf16_supported(),\n",
    "    bf16=torch.cuda.is_bf16_supported(),\n",
    "    logging_steps=10,\n",
    "    optim=\"adamw_8bit\",\n",
    "    weight_decay=0.01,\n",
    "    lr_scheduler_type=\"cosine\",\n",
    "    seed=3407,\n",
    "    save_strategy=\"steps\",\n",
    "    save_steps=100,\n",
    "    report_to=\"wandb\",\n",
    ")\n",
    "\n",
    "print(\"Configuration d'entraînement définie.\")"
   ]
  },
  {
   "cell_type": "markdown",
   "metadata": {},
   "source": [
    "## 6. Entraînement du Modèle\n",
    "\n",
    "Entraînement uniquement sur les réponses de l'assistant (train_on_responses_only)"
   ]
  },
  {
   "cell_type": "code",
   "execution_count": null,
   "metadata": {},
   "outputs": [],
   "source": [
    "from unsloth.chat_templates import train_on_responses_only\n",
    "\n",
    "# Créer le trainer\n",
    "trainer = SFTTrainer(\n",
    "    model=model,\n",
    "    tokenizer=tokenizer,\n",
    "    train_dataset=formatted_dataset,\n",
    "    dataset_text_field=\"text\",\n",
    "    max_seq_length=max_seq_length,\n",
    "    dataset_num_proc=2,\n",
    "    packing=False,\n",
    "    args=training_args,\n",
    ")\n",
    "\n",
    "# Entraîner uniquement sur les réponses de l'assistant\n",
    "trainer = train_on_responses_only(\n",
    "    trainer,\n",
    "    instruction_part=\"<|start_header_id|>user<|end_header_id|>\\n\\n\",\n",
    "    response_part=\"<|start_header_id|>assistant<|end_header_id|>\\n\\n\",\n",
    ")\n",
    "\n",
    "print(\"Trainer configuré. Début de l'entraînement...\")\n",
    "\n",
    "# Lancer l'entraînement\n",
    "trainer_stats = trainer.train()\n",
    "\n",
    "print(\"\\nEntraînement terminé!\")\n",
    "print(f\"Temps d'entraînement: {trainer_stats.metrics['train_runtime']:.2f} secondes\")\n",
    "print(f\"Loss finale: {trainer_stats.metrics['train_loss']:.4f}\")"
   ]
  },
  {
   "cell_type": "markdown",
   "metadata": {},
   "source": [
    "## 7. Sauvegarde du Modèle"
   ]
  },
  {
   "cell_type": "code",
   "execution_count": null,
   "metadata": {},
   "outputs": [],
   "source": [
    "# Sauvegarder le modèle fine-tuné\n",
    "model.save_pretrained(\"./models/architecture1_lora\")\n",
    "tokenizer.save_pretrained(\"./models/architecture1_lora\")\n",
    "\n",
    "print(\"Modèle sauvegardé dans ./models/architecture1_lora\")\n",
    "\n",
    "# Sauvegarder aussi en format GGUF pour déploiement (optionnel)\n",
    "# model.save_pretrained_gguf(\"architecture1_model\", tokenizer, quantization_method=\"q4_k_m\")\n",
    "\n",
    "wandb.finish()"
   ]
  },
  {
   "cell_type": "markdown",
   "metadata": {},
   "source": [
    "## 8. Inférence et Test"
   ]
  },
  {
   "cell_type": "code",
   "execution_count": null,
   "metadata": {},
   "outputs": [],
   "source": [
    "# Activer le mode inférence rapide\n",
    "FastLanguageModel.for_inference(model)\n",
    "\n",
    "def chat(user_message, conversation_history=[]):\n",
    "    \"\"\"Fonction de chat avec le modèle fine-tuné\"\"\"\n",
    "    \n",
    "    # Construire le prompt avec l'historique\n",
    "    messages = conversation_history + [{\"role\": \"user\", \"content\": user_message}]\n",
    "    \n",
    "    prompt = \"<|begin_of_text|><|start_header_id|>system<|end_header_id|>\\n\\n\"\n",
    "    prompt += system_prompt + \"<|eot_id|>\"\n",
    "    \n",
    "    for msg in messages:\n",
    "        prompt += f\"<|start_header_id|>{msg['role']}<|end_header_id|>\\n\\n{msg['content']}<|eot_id|>\"\n",
    "    \n",
    "    prompt += \"<|start_header_id|>assistant<|end_header_id|>\\n\\n\"\n",
    "    \n",
    "    # Générer la réponse\n",
    "    inputs = tokenizer([prompt], return_tensors=\"pt\").to(\"cuda\")\n",
    "    \n",
    "    outputs = model.generate(\n",
    "        **inputs,\n",
    "        max_new_tokens=512,\n",
    "        temperature=0.7,\n",
    "        min_p=0.1,\n",
    "        top_p=0.9,\n",
    "        repetition_penalty=1.1,\n",
    "        pad_token_id=tokenizer.eos_token_id,\n",
    "        eos_token_id=tokenizer.eos_token_id,\n",
    "    )\n",
    "    \n",
    "    response = tokenizer.decode(outputs[0][inputs[\"input_ids\"].shape[1]:], skip_special_tokens=True)\n",
    "    \n",
    "    return response.strip()\n",
    "\n",
    "# Tests\n",
    "print(\"=\" * 80)\n",
    "print(\"Test 1: Salutation initiale\")\n",
    "print(\"=\" * 80)\n",
    "response1 = chat(\"Bonjour\")\n",
    "print(f\"Assistant: {response1}\\n\")\n",
    "\n",
    "print(\"=\" * 80)\n",
    "print(\"Test 2: Problème de transaction\")\n",
    "print(\"=\" * 80)\n",
    "conversation = [{\"role\": \"user\", \"content\": \"Bonjour\"}, \n",
    "                {\"role\": \"assistant\", \"content\": response1}]\n",
    "response2 = chat(\"Mon argent n'est pas arrivé\", conversation)\n",
    "print(f\"Assistant: {response2}\\n\")\n",
    "\n",
    "print(\"=\" * 80)\n",
    "print(\"Test 3: Question sur les opérateurs\")\n",
    "print(\"=\" * 80)\n",
    "response3 = chat(\"Quels sont les opérateurs supportés par EasyTransfert ?\")\n",
    "print(f\"Assistant: {response3}\\n\")"
   ]
  },
  {
   "cell_type": "markdown",
   "metadata": {},
   "source": [
    "## 9. Évaluation Quantitative\n",
    "\n",
    "Métriques de performance de l'Architecture 1"
   ]
  },
  {
   "cell_type": "code",
   "execution_count": null,
   "metadata": {},
   "outputs": [],
   "source": [
    "import time\n",
    "import numpy as np\n",
    "\n",
    "def evaluate_model(test_queries, num_runs=5):\n",
    "    \"\"\"Évaluation des performances du modèle\"\"\"\n",
    "    \n",
    "    latencies = []\n",
    "    response_lengths = []\n",
    "    \n",
    "    for query in test_queries:\n",
    "        for _ in range(num_runs):\n",
    "            start_time = time.time()\n",
    "            response = chat(query)\n",
    "            latency = time.time() - start_time\n",
    "            \n",
    "            latencies.append(latency)\n",
    "            response_lengths.append(len(response.split()))\n",
    "    \n",
    "    print(\"Métriques de Performance - Architecture 1\")\n",
    "    print(\"=\" * 60)\n",
    "    print(f\"Latence moyenne: {np.mean(latencies):.2f}s (±{np.std(latencies):.2f}s)\")\n",
    "    print(f\"Latence médiane: {np.median(latencies):.2f}s\")\n",
    "    print(f\"Latence min/max: {np.min(latencies):.2f}s / {np.max(latencies):.2f}s\")\n",
    "    print(f\"Longueur moyenne réponse: {np.mean(response_lengths):.1f} mots\")\n",
    "    print(\"=\" * 60)\n",
    "    \n",
    "    return {\n",
    "        \"latency_mean\": np.mean(latencies),\n",
    "        \"latency_std\": np.std(latencies),\n",
    "        \"latency_median\": np.median(latencies),\n",
    "        \"response_length_mean\": np.mean(response_lengths)\n",
    "    }\n",
    "\n",
    "# Requêtes de test\n",
    "test_queries = [\n",
    "    \"Bonjour\",\n",
    "    \"Mon transfert n'est pas arrivé\",\n",
    "    \"Comment faire un transfert de MTN vers Orange ?\",\n",
    "    \"J'ai oublié mon mot de passe\",\n",
    "    \"Quels sont les frais de transaction ?\"\n",
    "]\n",
    "\n",
    "metrics = evaluate_model(test_queries, num_runs=3)\n",
    "\n",
    "# Logger les métriques dans WandB\n",
    "wandb.log(metrics)"
   ]
  },
  {
   "cell_type": "markdown",
   "metadata": {},
   "source": [
    "## 10. Avantages et Limites de l'Architecture 1\n",
    "\n",
    "### Avantages:\n",
    "- ✅ **Simplicité**: Architecture directe sans dépendances externes\n",
    "- ✅ **Efficacité**: Inférence rapide (~2-3s par réponse)\n",
    "- ✅ **Mémoire**: Adaptateurs LoRA légers (~50 MB)\n",
    "- ✅ **Déploiement**: Facile sur GPU grand public\n",
    "- ✅ **Cohérence**: Style conversationnel homogène\n",
    "\n",
    "### Limites:\n",
    "- ❌ **Hallucinations**: Risque d'inventer des informations\n",
    "- ❌ **Actualisation**: Nécessite réentraînement pour nouvelles données\n",
    "- ❌ **Traçabilité**: Pas de citation de sources\n",
    "- ❌ **Connaissances**: Limitées aux données d'entraînement\n",
    "- ❌ **Complexité**: Difficultés avec requêtes multi-étapes"
   ]
  }
 ],
 "metadata": {
  "kernelspec": {
   "display_name": "Python 3",
   "language": "python",
   "name": "python3"
  },
  "language_info": {
   "codemirror_mode": {
    "name": "ipython",
    "version": 3
   },
   "file_extension": ".py",
   "mimetype": "text/x-python",
   "name": "python",
   "nbconvert_exporter": "python",
   "pygments_lexer": "ipython3",
   "version": "3.10.0"
  }
 },
 "nbformat": 4,
 "nbformat_minor": 4
}